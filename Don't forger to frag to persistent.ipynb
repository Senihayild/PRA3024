{
 "cells": [
  {
   "cell_type": "code",
   "execution_count": 1,
   "id": "54c90b02-7f73-43d9-ad33-c7abb8302ef6",
   "metadata": {
    "tags": []
   },
   "outputs": [],
   "source": [
    "import numpy as np"
   ]
  },
  {
   "cell_type": "code",
   "execution_count": 2,
   "id": "630aa786-9cd0-4dbd-93f9-3869b6e69774",
   "metadata": {
    "tags": []
   },
   "outputs": [
    {
     "name": "stdout",
     "output_type": "stream",
     "text": [
      "Let's do it!\n"
     ]
    }
   ],
   "source": [
    "print(\"Let's do it!\")"
   ]
  },
  {
   "cell_type": "code",
   "execution_count": null,
   "id": "68330bab-320d-4fa2-88d8-640d7ced798d",
   "metadata": {},
   "outputs": [],
   "source": []
  }
 ],
 "metadata": {
  "kernelspec": {
   "display_name": "Python 3 (ipykernel)",
   "language": "python",
   "name": "python3"
  },
  "language_info": {
   "codemirror_mode": {
    "name": "ipython",
    "version": 3
   },
   "file_extension": ".py",
   "mimetype": "text/x-python",
   "name": "python",
   "nbconvert_exporter": "python",
   "pygments_lexer": "ipython3",
   "version": "3.8.13"
  }
 },
 "nbformat": 4,
 "nbformat_minor": 5
}
